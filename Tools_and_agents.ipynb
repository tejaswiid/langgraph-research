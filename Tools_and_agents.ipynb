{
 "cells": [
  {
   "cell_type": "code",
   "execution_count": 1,
   "metadata": {},
   "outputs": [],
   "source": [
    "import os\n",
    "from dotenv import load_dotenv\n",
    "load_dotenv()\n",
    "\n",
    "GOOGLE_API_KEY=os.getenv(\"GOOGLE_API_KEY\")\n",
    "TAVILY_API_KEY=os.getenv(\"TAVILY_API_KEY\")\n",
    "GROQ_API_KEY=os.getenv(\"GROQ_API_KEY\")\n",
    "LANGCHAIN_API_KEY=os.getenv(\"LANGCHAIN_API_KEY\")\n",
    "LANGCHAIN_PROJECT=os.getenv(\"LANGCHAIN_PROJECT\")\n",
    "os.environ[\"GOOGLE_API_KEY\"] = GOOGLE_API_KEY\n",
    "os.environ[\"TAVILY_API_KEY\"] = TAVILY_API_KEY\n",
    "os.environ[\"GROQ_API_KEY\"]= GROQ_API_KEY\n",
    "os.environ[\"LANGCHAIN_API_KEY\"] = LANGCHAIN_API_KEY\n",
    "os.environ[\"LANGCHAIN_TRACING_V2\"] = \"true\"\n",
    "os.environ[\"LANGCHAIN_ENDPOINT\"] = \"https://api.smith.langchain.com\"\n",
    "os.environ[\"LANGCHAIN_PROJECT\"]=LANGCHAIN_PROJECT"
   ]
  },
  {
   "cell_type": "code",
   "execution_count": 2,
   "metadata": {},
   "outputs": [
    {
     "name": "stderr",
     "output_type": "stream",
     "text": [
      "/Users/tejaswidasari/Desktop/langgraph_end_to_end/test/lib/python3.9/site-packages/urllib3/__init__.py:35: NotOpenSSLWarning: urllib3 v2 only supports OpenSSL 1.1.1+, currently the 'ssl' module is compiled with 'LibreSSL 2.8.3'. See: https://github.com/urllib3/urllib3/issues/3020\n",
      "  warnings.warn(\n",
      "/Users/tejaswidasari/Desktop/langgraph_end_to_end/test/lib/python3.9/site-packages/tqdm/auto.py:21: TqdmWarning: IProgress not found. Please update jupyter and ipywidgets. See https://ipywidgets.readthedocs.io/en/stable/user_install.html\n",
      "  from .autonotebook import tqdm as notebook_tqdm\n"
     ]
    }
   ],
   "source": [
    "from langchain_huggingface import HuggingFaceEmbeddings\n",
    "embeddings=HuggingFaceEmbeddings(model_name=\"all-MiniLM-L6-v2\")"
   ]
  },
  {
   "cell_type": "code",
   "execution_count": 3,
   "metadata": {},
   "outputs": [],
   "source": [
    "from langchain_groq import ChatGroq\n",
    "llm=ChatGroq(model_name=\"Gemma2-9b-It\")"
   ]
  },
  {
   "cell_type": "code",
   "execution_count": 4,
   "metadata": {},
   "outputs": [
    {
     "data": {
      "text/plain": [
       "AIMessage(content=\"As an AI, I don't have feelings, but I'm here and ready to help! How can I assist you today?\\n\", additional_kwargs={}, response_metadata={'token_usage': {'completion_tokens': 31, 'prompt_tokens': 13, 'total_tokens': 44, 'completion_time': 0.056363636, 'prompt_time': 7.987e-05, 'queue_time': 0.01865005, 'total_time': 0.056443506}, 'model_name': 'Gemma2-9b-It', 'system_fingerprint': 'fp_10c08bf97d', 'finish_reason': 'stop', 'logprobs': None}, id='run-18ed2770-fba5-4535-995e-53fd0bfa8239-0', usage_metadata={'input_tokens': 13, 'output_tokens': 31, 'total_tokens': 44})"
      ]
     },
     "execution_count": 4,
     "metadata": {},
     "output_type": "execute_result"
    }
   ],
   "source": [
    "llm.invoke(\"hi how are you\")"
   ]
  },
  {
   "cell_type": "markdown",
   "metadata": {},
   "source": [
    "predefined tools"
   ]
  },
  {
   "cell_type": "code",
   "execution_count": 5,
   "metadata": {},
   "outputs": [
    {
     "name": "stdout",
     "output_type": "stream",
     "text": [
      "Page: LangChain\n",
      "Summary: LangChain is a software framework that helps facilitate the integration of large language models (LLMs) into applications. As a language model integration framework, LangChain's use-cases largely overlap with those of language models in general, including document analysis and summarization, chatbots, and code analysis.\n",
      "\n",
      "Page: Retrieval-augmented generation\n",
      "Summary: Retrieval Augmented Generation (RAG) is a technique that grants generative artificial intelligence models information retrieval capabilities. It modifies interactions with a large language model (LLM) so that the model responds to user queries with reference to a specified set of documents, using this information to augment information drawn from its own vast, static training data. This allows LLMs to use domain-specific and/or updated information.  \n",
      "Use cases include providing chatbot access to internal company data or giving factual information only from an authoritative source.\n",
      "\n",
      "Page: Milvus (vector database)\n",
      "Summary: Milvus is a distributed vector database developed by Zilliz. It is available as both open-source software and a cloud service.\n",
      "Milvus is an open-source project under LF AI & Data Foundation distributed under the Apache License 2.0.\n"
     ]
    }
   ],
   "source": [
    "from langchain_community.tools import WikipediaQueryRun\n",
    "from langchain_community.utilities import WikipediaAPIWrapper\n",
    "api_wrapper = WikipediaAPIWrapper()\n",
    "tool = WikipediaQueryRun(api_wrapper=api_wrapper)\n",
    "print(tool.run({\"query\": \"langchain\"}))"
   ]
  },
  {
   "cell_type": "code",
   "execution_count": 8,
   "metadata": {},
   "outputs": [
    {
     "data": {
      "text/plain": [
       "\"['https://www.youtube.com/shorts/ehv-Ls9Idw8', 'https://www.youtube.com/shorts/AEkA_5K8sh4']\""
      ]
     },
     "execution_count": 8,
     "metadata": {},
     "output_type": "execute_result"
    }
   ],
   "source": [
    "from langchain_community.tools import YouTubeSearchTool\n",
    "tool2=YouTubeSearchTool()\n",
    "tool2.run(\"neetcode\")"
   ]
  },
  {
   "cell_type": "code",
   "execution_count": 9,
   "metadata": {},
   "outputs": [
    {
     "data": {
      "text/plain": [
       "[{'url': 'https://sjsa.maharashtra.gov.in/en/mahatma-gandhi-biography',\n",
       "  'content': 'Mohandas Karamchand Gandhi, popularly known as Mahatma Gandhi was a major political and spiritual leader of India who led the country in the non-cooperation'},\n",
       " {'url': 'https://www.britannica.com/biography/Mahatma-Gandhi',\n",
       "  'content': 'Mohandas disregarded the last obstacle—the decree of the leaders of the Modh Bania subcaste (Vaishya caste), to which the Gandhis belonged, who forbade his trip to England as a violation of the Hindu religion—and sailed in September 1888. Gandhi’s father was a local government official working under the suzerainty of the British Raj, and his mother was a religious devotee who—like the rest of the family—practiced in the Vaishnavist tradition of Hinduism. Leo Tolstoy’s analysis of Christian theology, for example, came to bear heavily on Gandhi’s conception of spirituality, as did texts such as the Bible and the Quʾrān, and he first read the Bhagavadgita—a Hindu epic—in its English translation while living in Britain.\\n His father—Karamchand Gandhi, who was the dewan (chief minister) of Porbandar, the capital of a small principality in western India (in what is now Gujarat state) under British suzerainty—did not have much in the way of a formal education. But, besides the Vaishnava prejudice against vivisection, it was clear that, if he was to keep up the family tradition of holding high office in one of the states in Gujarat, he would have to qualify as a barrister.'},\n",
       " {'url': 'https://kinginstitute.stanford.edu/gandhi-mohandas-k',\n",
       "  'content': \"King Papers\\nAbout the Papers Project\\nResources\\nDocuments\\nDocument Research Requests\\nFreedom's Ring\\nOnline King Records Access\\nKing Institute Publications\\nRecommended Readings\\nThe Institute\\nAbout the Institute\\nVisit the Institute\\nOur Supporters\\nOur Staff\\nMake a Gift Address\\nCypress Hall D\\n466 Via Ortega\\nStanford, CA 94305-4146\\nUnited States\\nP: (650) 723-2092\\nF: (650) 723-2093kinginstitute@stanford.eduCampus Map\\nThe Institute cannot give permission to use or reproduce any of the writings, statements, or images of Martin Luther King, Jr. Please contact Intellectual Properties Management (IPM), the exclusive licensor of the Estate of Martin Luther King, Jr., Inc. at\\xa0licensing@i-p-m.com\\xa0or 404 526-8968. A testament to the revolutionary power of\\xa0nonviolence, Gandhi’s approach directly influenced Martin Luther King, Jr., who argued that the Gandhian philosophy was\\xa0“the only morally and practically sound method open to oppressed people in their struggle for freedom”\\xa0(Papers\\xa04:478).\\n Gandhi, Mohandas K.\\nOctober 2, 1869\\xa0to\\xa0January 30, 1948\\nUpon his death, Mohandas K. Gandhi was hailed by the\\xa0London Times\\xa0as “the most influential figure India has produced for generations” (“Mr. Gandhi”). In 1959, King traveled to India with his wife, Coretta Scott\\xa0King, and Lawrence D.\\xa0Reddick\\xa0on a visit co-sponsored by the\\xa0American Friends Service Committee\\xa0and Gandhi Smarak Nidhi (Gandhi Memorial Fund).\"},\n",
       " {'url': 'https://www.theguardian.com/world/1948/jan/31/india.fromthearchive1',\n",
       "  'content': 'Monhandas Karamchand Gandhi was born in the small town of Porbandar, on the west coast of India, on October 2 1869.'},\n",
       " {'url': 'https://globalgovernanceforum.org/visionary/mohandas-karamchand-gandhi/',\n",
       "  'content': 'Mohandas Karamchand Gandhi - Global Governance Forum In 1920, Gandhi assumed leadership of the Indian National Congress, and negotiations began which led in 1947 to independence, by which the Indian British Empire was partitioned into two separate states: Muslim Pakistan and largely Hindu India. In his book Hind Swaraj (1909), Gandhi argued that the Indian British empire could not exist without the participation of Indians and that if they peacefully resisted, the system would cave in, resulting in what would come to be known as Swaraj or self-rule. In the wake of the Jallianwala Bagh massacre of April 13, 1919, in which British troops opened fire on Sikh and Hindu civilians, Gandhi refrained even from criticizing the British government and urged his followers to cleave to a peaceful state of mind and action.'}]"
      ]
     },
     "execution_count": 9,
     "metadata": {},
     "output_type": "execute_result"
    }
   ],
   "source": [
    "from langchain_community.tools.tavily_search import TavilySearchResults\n",
    "tool = TavilySearchResults()\n",
    "tool.invoke({\"query\": \"who is mohandas karamchand gandhi?\"})"
   ]
  },
  {
   "cell_type": "code",
   "execution_count": 10,
   "metadata": {},
   "outputs": [],
   "source": [
    "from langchain.agents import tool\n",
    "@tool\n",
    "def get_word_length(word: str) -> int:\n",
    "    \"\"\"Returns the length of a word.\"\"\"\n",
    "    return len(word)"
   ]
  },
  {
   "cell_type": "code",
   "execution_count": 11,
   "metadata": {},
   "outputs": [
    {
     "data": {
      "text/plain": [
       "3"
      ]
     },
     "execution_count": 11,
     "metadata": {},
     "output_type": "execute_result"
    }
   ],
   "source": [
    "get_word_length.invoke(\"abc\")"
   ]
  },
  {
   "cell_type": "code",
   "execution_count": 12,
   "metadata": {},
   "outputs": [],
   "source": [
    "@tool\n",
    "def multiply(a: int, b: int) -> int:\n",
    "    \"\"\"Multiply two numbers.\"\"\"\n",
    "    return a * b"
   ]
  },
  {
   "cell_type": "code",
   "execution_count": 13,
   "metadata": {},
   "outputs": [],
   "source": [
    "@tool\n",
    "def summisation(a: int, b: int) -> int:\n",
    "    \"\"\"Adding two numbers.\"\"\"\n",
    "    return a + b"
   ]
  },
  {
   "cell_type": "code",
   "execution_count": 14,
   "metadata": {},
   "outputs": [
    {
     "name": "stdout",
     "output_type": "stream",
     "text": [
      "multiply\n",
      "Multiply two numbers.\n",
      "{'a': {'title': 'A', 'type': 'integer'}, 'b': {'title': 'B', 'type': 'integer'}}\n"
     ]
    }
   ],
   "source": [
    "print(multiply.name)\n",
    "print(multiply.description)\n",
    "print(multiply.args)"
   ]
  },
  {
   "cell_type": "code",
   "execution_count": 15,
   "metadata": {},
   "outputs": [
    {
     "name": "stdout",
     "output_type": "stream",
     "text": [
      "summisation\n",
      "Adding two numbers.\n",
      "{'a': {'title': 'A', 'type': 'integer'}, 'b': {'title': 'B', 'type': 'integer'}}\n"
     ]
    }
   ],
   "source": [
    "print(summisation.name)\n",
    "print(summisation.description)\n",
    "print(summisation.args)"
   ]
  },
  {
   "cell_type": "code",
   "execution_count": 16,
   "metadata": {},
   "outputs": [
    {
     "data": {
      "text/plain": [
       "200"
      ]
     },
     "execution_count": 16,
     "metadata": {},
     "output_type": "execute_result"
    }
   ],
   "source": [
    "multiply.invoke({\"a\":10,\"b\":20})"
   ]
  },
  {
   "cell_type": "code",
   "execution_count": 17,
   "metadata": {},
   "outputs": [
    {
     "data": {
      "text/plain": [
       "30"
      ]
     },
     "execution_count": 17,
     "metadata": {},
     "output_type": "execute_result"
    }
   ],
   "source": [
    "summisation.invoke({\"a\":10,\"b\":20})"
   ]
  },
  {
   "cell_type": "code",
   "execution_count": 18,
   "metadata": {},
   "outputs": [],
   "source": [
    "from langchain.agents import AgentType\n",
    "from langchain.agents import load_tools \n",
    "from langchain.agents import initialize_agent"
   ]
  },
  {
   "cell_type": "code",
   "execution_count": 19,
   "metadata": {},
   "outputs": [],
   "source": [
    "tool=load_tools([\"wikipedia\"],llm=llm)"
   ]
  },
  {
   "cell_type": "code",
   "execution_count": 20,
   "metadata": {},
   "outputs": [
    {
     "name": "stderr",
     "output_type": "stream",
     "text": [
      "/var/folders/yb/tddnxctj6ns2__b62rd17vvw0000gn/T/ipykernel_49574/2645007812.py:1: LangChainDeprecationWarning: LangChain agents will continue to be supported, but it is recommended for new use cases to be built with LangGraph. LangGraph offers a more flexible and full-featured framework for building agents, including support for tool-calling, persistence of state, and human-in-the-loop workflows. For details, refer to the `LangGraph documentation <https://langchain-ai.github.io/langgraph/>`_ as well as guides for `Migrating from AgentExecutor <https://python.langchain.com/docs/how_to/migrate_agent/>`_ and LangGraph's `Pre-built ReAct agent <https://langchain-ai.github.io/langgraph/how-tos/create-react-agent/>`_.\n",
      "  agent=initialize_agent(tool,llm,agent=AgentType.ZERO_SHOT_REACT_DESCRIPTION,verbose=True)\n"
     ]
    }
   ],
   "source": [
    "agent=initialize_agent(tool,llm,agent=AgentType.ZERO_SHOT_REACT_DESCRIPTION,verbose=True)"
   ]
  },
  {
   "cell_type": "code",
   "execution_count": 21,
   "metadata": {},
   "outputs": [
    {
     "name": "stderr",
     "output_type": "stream",
     "text": [
      "/var/folders/yb/tddnxctj6ns2__b62rd17vvw0000gn/T/ipykernel_49574/1615792405.py:1: LangChainDeprecationWarning: The method `Chain.run` was deprecated in langchain 0.1.0 and will be removed in 1.0. Use :meth:`~invoke` instead.\n",
      "  agent.run(\"what is llama and who create this llm model?\")\n"
     ]
    },
    {
     "name": "stdout",
     "output_type": "stream",
     "text": [
      "\n",
      "\n",
      "\u001b[1m> Entering new AgentExecutor chain...\u001b[0m\n",
      "\u001b[32;1m\u001b[1;3mThought: I need to search Wikipedia for information about Llama and its creators. \n",
      "Action: wikipedia\n",
      "Action Input: Llama (large language model)\u001b[0m\n",
      "Observation: \u001b[36;1m\u001b[1;3mPage: Llama (language model)\n",
      "Summary: Llama (Large Language Model Meta AI, formerly stylized as LLaMA) is a family of autoregressive large language models (LLMs) released by Meta AI starting in February 2023. The latest version is Llama 3.3, released in December 2024.\n",
      "Llama models are trained at different parameter sizes, ranging between 1B and 405B. Originally, Llama was only available as a foundation model. Starting with Llama 2, Meta AI started releasing instruction fine-tuned versions alongside foundation models.\n",
      "Model weights for the first version of Llama were made available to the research community under a non-commercial license, and access was granted on a case-by-case basis. Unauthorized copies of the first model were shared via BitTorrent. Subsequent versions of Llama were made accessible outside academia and released under licenses that permitted some commercial use.\n",
      "Alongside the release of Llama 3, Meta added virtual assistant features to Facebook and WhatsApp in select regions, and a standalone website. Both services use a Llama 3 model.\n",
      "\n",
      "Page: Large language model\n",
      "Summary: A large language model (LLM) is a type of machine learning model designed for natural language processing tasks such as language generation. LLMs are language models with many parameters, and are trained with self-supervised learning on a vast amount of text.\n",
      "The largest and most capable LLMs are generative pretrained transformers (GPTs). Modern models can be fine-tuned for specific tasks or guided by prompt engineering. These models acquire predictive power regarding syntax, semantics, and ontologies inherent in human language corpora, but they also inherit inaccuracies and biases present in the data they are trained in.\n",
      "\n",
      "Page: Llama.cpp\n",
      "Summary: llama.cpp is an open source software library that performs inference on various large language models such as Llama. It is co-developed alongside the GGML project, a general-purpose tensor library. \n",
      "Command-line tools are included with the library, alongside a server with a simple web interface.\u001b[0m\n",
      "Thought:\u001b[32;1m\u001b[1;3mThought: I now know the final answer\n",
      "Final Answer: Llama is a family of autoregressive large language models (LLMs) released by Meta AI. \n",
      "\n",
      "\n",
      "\u001b[0m\n",
      "\n",
      "\u001b[1m> Finished chain.\u001b[0m\n"
     ]
    },
    {
     "data": {
      "text/plain": [
       "'Llama is a family of autoregressive large language models (LLMs) released by Meta AI.'"
      ]
     },
     "execution_count": 21,
     "metadata": {},
     "output_type": "execute_result"
    }
   ],
   "source": [
    "agent.run(\"what is llama and who create this llm model?\")\n"
   ]
  },
  {
   "cell_type": "code",
   "execution_count": 22,
   "metadata": {},
   "outputs": [],
   "source": [
    "from langchain_community.tools.tavily_search import TavilySearchResults"
   ]
  },
  {
   "cell_type": "code",
   "execution_count": 23,
   "metadata": {},
   "outputs": [],
   "source": [
    "search = TavilySearchResults()"
   ]
  },
  {
   "cell_type": "code",
   "execution_count": 24,
   "metadata": {},
   "outputs": [
    {
     "data": {
      "text/plain": [
       "[{'url': 'https://www.weatherapi.com/',\n",
       "  'content': \"{'location': {'name': 'San Francisco', 'region': 'California', 'country': 'United States of America', 'lat': 37.775, 'lon': -122.4183, 'tz_id': 'America/Los_Angeles', 'localtime_epoch': 1735990229, 'localtime': '2025-01-04 03:30'}, 'current': {'last_updated_epoch': 1735990200, 'last_updated': '2025-01-04 03:30', 'temp_c': 9.4, 'temp_f': 48.9, 'is_day': 0, 'condition': {'text': 'Partly cloudy', 'icon': '//cdn.weatherapi.com/weather/64x64/night/116.png', 'code': 1003}, 'wind_mph': 4.7, 'wind_kph': 7.6, 'wind_degree': 285, 'wind_dir': 'WNW', 'pressure_mb': 1024.0, 'pressure_in': 30.24, 'precip_mm': 0.0, 'precip_in': 0.0, 'humidity': 83, 'cloud': 25, 'feelslike_c': 8.4, 'feelslike_f': 47.1, 'windchill_c': 9.1, 'windchill_f': 48.4, 'heatindex_c': 10.3, 'heatindex_f': 50.5, 'dewpoint_c': 7.1, 'dewpoint_f': 44.7, 'vis_km': 16.0, 'vis_miles': 9.0, 'uv': 0.0, 'gust_mph': 7.5, 'gust_kph': 12.1}}\"},\n",
       " {'url': 'https://www.easeweather.com/north-america/united-states/california/city-and-county-of-san-francisco/april',\n",
       "  'content': 'April 2025 Weather - City and County of San Francisco Weather in City and County of San Francisco for April 2025 Your guide to City and County of San Francisco weather in April - trends and predictions In general, the average temperature in City and County of San Francisco at the beginning of April is 15.9\\xa0°F. City and County of San Francisco experiences moderate rainfall in April, with an average of 8 rainy days and a total precipitation of 20.6\\xa0mm. City and County of San Francisco in April average weather Temperatures trend during April in City and County of San Francisco In April, City and County of San Francisco can expect light to moderate rainfall, totaling 20.6\\xa0mm across approximately 8 days.'},\n",
       " {'url': 'https://www.weather25.com/north-america/usa/california/san-francisco?page=month&month=April',\n",
       "  'content': 'San Francisco weather in April 2025 | Weather25.com San Francisco weather in April 2025 The wather in San Francisco in April can vary between cold and nice weather days. | San Francisco in April | Temperatures in San Francisco in April Weather in San Francisco in April - FAQ The average temperature in San Francisco in April is 9/18° C. On average, there are 2 rainy days in San Francisco during April. The weather in San Francisco in April is good. On average, there are 0 snowy days in San Francisco in April. More about the weather in San Francisco San Francisco 14 day weather Long range weather for San Francisco San Francisco weather in November San Francisco weather in December San Francisco Webcam Weather tomorrow Hotels in San Francisco'},\n",
       " {'url': 'https://www.metcheck.com/WEATHER/dayforecast.asp?location=San+Francisco&locationID=57997&lat=-28.963100&lon=-65.426710&dateFor=04/01/2025',\n",
       "  'content': 'LIVE\\xa0▼ CHARTS/FORECASTS\\xa0▼ MODELS\\xa0▼ COMMUNITY\\xa0▼ DISCUSSIONS\\xa0▼ COMMERCIAL\\xa0▼ 27°c 41°c 30°c 37°c 24°c 39°c 29°c 41°c 29°c 34°c 24°c 37°c 26°c 40°c 29°c Weather Forecast for\\xa0San Francisco\\xa0for\\xa0Saturday 4 January Day/Night Day / Night Wet/Dry Dry & Wet ☀\\xa0▲\\xa06:27\\xa0\\xa0\\xa0\\xa020:23\\xa0\\xa0▼\\xa0☼\\xa0 ◄ Fri 16 Days ▼ Sun ► New Today On Metcheck Today\\xa0▼ Live\\xa0▼ Models\\xa0▼ Charts\\xa0▼ 1 NEW weather warning Read ► 1 NEW discussion - Read ► 1 NEW global discussion 2 NEW live discussions 41 NEW weather reports 1 NEW GFS Commentary 1 NEW snow discussion Forecasters Discussion\\xa0► Live Discussion\\xa0► ▼ Discussions ▼ Snow Maps Weather Reports Data Data Verification Site Changes Data Status'},\n",
       " {'url': 'https://wu-next-prod-us-east-1-aws.wunderground.com/history/weekly/us/ca/san-francisco/KCASANFR1765/date/2025-1-1',\n",
       "  'content': 'San Francisco, CA Weather History | Weather Underground Sensor Network Maps & Radar Severe Weather News & Blogs Mobile Apps _gps_fixed_Find Nearest Station account_box Log in Go Ad Free_settings_ Settings Sensor NetworkMaps & RadarSevere WeatherNews & BlogsMobile AppsHistorical Weather San Francisco, CA _warning_50 °FPartly Cloudy _gps_fixed_Find Nearest Station San Francisco, CA Weather History_star_rate__home_ 51\\xa0°F San Francisco Intl Airport Station|Report Report Station Thank you for reporting this station. You are about to report this weather station for bad data. Station Offline Current Station Personal Weather Station Nearby Weather Stations Showing Stations Data Vendors We recognize our responsibility to use data and technology for good. We may use or share your data with our data vendors. Take control of your data.'}]"
      ]
     },
     "execution_count": 24,
     "metadata": {},
     "output_type": "execute_result"
    }
   ],
   "source": [
    "search.invoke(\"what is the weather in SF\")"
   ]
  },
  {
   "cell_type": "code",
   "execution_count": 25,
   "metadata": {},
   "outputs": [],
   "source": [
    "tools = [search]"
   ]
  },
  {
   "cell_type": "code",
   "execution_count": 26,
   "metadata": {},
   "outputs": [],
   "source": [
    "from langchain import hub"
   ]
  },
  {
   "cell_type": "code",
   "execution_count": 27,
   "metadata": {},
   "outputs": [],
   "source": [
    "prompt=hub.pull(\"hwchase17/openai-functions-agent\")"
   ]
  },
  {
   "cell_type": "code",
   "execution_count": 28,
   "metadata": {},
   "outputs": [
    {
     "data": {
      "text/plain": [
       "ChatPromptTemplate(input_variables=['agent_scratchpad', 'input'], optional_variables=['chat_history'], input_types={'chat_history': list[typing.Annotated[typing.Union[typing.Annotated[langchain_core.messages.ai.AIMessage, Tag(tag='ai')], typing.Annotated[langchain_core.messages.human.HumanMessage, Tag(tag='human')], typing.Annotated[langchain_core.messages.chat.ChatMessage, Tag(tag='chat')], typing.Annotated[langchain_core.messages.system.SystemMessage, Tag(tag='system')], typing.Annotated[langchain_core.messages.function.FunctionMessage, Tag(tag='function')], typing.Annotated[langchain_core.messages.tool.ToolMessage, Tag(tag='tool')], typing.Annotated[langchain_core.messages.ai.AIMessageChunk, Tag(tag='AIMessageChunk')], typing.Annotated[langchain_core.messages.human.HumanMessageChunk, Tag(tag='HumanMessageChunk')], typing.Annotated[langchain_core.messages.chat.ChatMessageChunk, Tag(tag='ChatMessageChunk')], typing.Annotated[langchain_core.messages.system.SystemMessageChunk, Tag(tag='SystemMessageChunk')], typing.Annotated[langchain_core.messages.function.FunctionMessageChunk, Tag(tag='FunctionMessageChunk')], typing.Annotated[langchain_core.messages.tool.ToolMessageChunk, Tag(tag='ToolMessageChunk')]], FieldInfo(annotation=NoneType, required=True, discriminator=Discriminator(discriminator=<function _get_type at 0x1086f2ee0>, custom_error_type=None, custom_error_message=None, custom_error_context=None))]], 'agent_scratchpad': list[typing.Annotated[typing.Union[typing.Annotated[langchain_core.messages.ai.AIMessage, Tag(tag='ai')], typing.Annotated[langchain_core.messages.human.HumanMessage, Tag(tag='human')], typing.Annotated[langchain_core.messages.chat.ChatMessage, Tag(tag='chat')], typing.Annotated[langchain_core.messages.system.SystemMessage, Tag(tag='system')], typing.Annotated[langchain_core.messages.function.FunctionMessage, Tag(tag='function')], typing.Annotated[langchain_core.messages.tool.ToolMessage, Tag(tag='tool')], typing.Annotated[langchain_core.messages.ai.AIMessageChunk, Tag(tag='AIMessageChunk')], typing.Annotated[langchain_core.messages.human.HumanMessageChunk, Tag(tag='HumanMessageChunk')], typing.Annotated[langchain_core.messages.chat.ChatMessageChunk, Tag(tag='ChatMessageChunk')], typing.Annotated[langchain_core.messages.system.SystemMessageChunk, Tag(tag='SystemMessageChunk')], typing.Annotated[langchain_core.messages.function.FunctionMessageChunk, Tag(tag='FunctionMessageChunk')], typing.Annotated[langchain_core.messages.tool.ToolMessageChunk, Tag(tag='ToolMessageChunk')]], FieldInfo(annotation=NoneType, required=True, discriminator=Discriminator(discriminator=<function _get_type at 0x1086f2ee0>, custom_error_type=None, custom_error_message=None, custom_error_context=None))]]}, partial_variables={'chat_history': []}, metadata={'lc_hub_owner': 'hwchase17', 'lc_hub_repo': 'openai-functions-agent', 'lc_hub_commit_hash': 'a1655024b06afbd95d17449f21316291e0726f13dcfaf990cc0d18087ad689a5'}, messages=[SystemMessagePromptTemplate(prompt=PromptTemplate(input_variables=[], input_types={}, partial_variables={}, template='You are a helpful assistant'), additional_kwargs={}), MessagesPlaceholder(variable_name='chat_history', optional=True), HumanMessagePromptTemplate(prompt=PromptTemplate(input_variables=['input'], input_types={}, partial_variables={}, template='{input}'), additional_kwargs={}), MessagesPlaceholder(variable_name='agent_scratchpad')])"
      ]
     },
     "execution_count": 28,
     "metadata": {},
     "output_type": "execute_result"
    }
   ],
   "source": [
    "prompt"
   ]
  },
  {
   "cell_type": "code",
   "execution_count": 29,
   "metadata": {},
   "outputs": [],
   "source": [
    "from langchain.agents import create_tool_calling_agent\n",
    "agent = create_tool_calling_agent(llm, tools, prompt)"
   ]
  },
  {
   "cell_type": "code",
   "execution_count": 30,
   "metadata": {},
   "outputs": [],
   "source": [
    "from langchain.agents import AgentExecutor\n",
    "agent_executor = AgentExecutor(agent=agent, tools=tools, verbose=True)"
   ]
  },
  {
   "cell_type": "code",
   "execution_count": 31,
   "metadata": {},
   "outputs": [
    {
     "name": "stdout",
     "output_type": "stream",
     "text": [
      "\n",
      "\n",
      "\u001b[1m> Entering new AgentExecutor chain...\u001b[0m\n",
      "\u001b[32;1m\u001b[1;3m\n",
      "Invoking: `tavily_search_results_json` with `{'query': 'how are you'}`\n",
      "\n",
      "\n",
      "\u001b[0m\u001b[36;1m\u001b[1;3m[{'url': 'https://www.indeed.com/career-advice/career-development/how-are-you-response', 'content': 'Sep 18, 2024 ... The way you should answer the question “How are you?” depends on who is asking. If you are talking to acquaintances or strangers, your answer will be more'}, {'url': 'https://www.quora.com/What-is-a-good-way-of-responding-to-how-are-you', 'content': 'It wasn\\'t until I asked someone how they were and they responded with “I\\'m fine. It made feel good to know that someone wanted to know how I felt, even if it was an automatic response to the question “How are you?” I\\'ve had the pleasurable opportunity to have traveled to foreign countries, like Mexico, Canada, and Sweden, where the native people actually do care and find the time to listen if the person being asked answers, “ Well I\\'m not doing good today.\" So why i I\\'ve had the pleasurable opportunity to have traveled to foreign countries, like Mexico, Canada, and Sweden, where the native people actually do care and find the time to listen if the person being asked answers, “ Well I\\'m not doing good today.\" So why is that?'}, {'url': 'https://www.grammarly.com/blog/writing-tips/how-are-you/', 'content': \"9 Ways to Ask “How Are You?” with Examples | Grammarly AI Writing Tools Grammar Checker AI Writing Tools Grammar Checker Writing How To's Business Writing Writing With AI Writing How To's Business Writing Writing With AI Write with Grammarly Conversely, if you’re emailing or messaging your manager who just got back from parental leave, something slightly more formal and targeted might make more sense, like “How are you doing with the new baby?” That way you show interest in their major life event while keeping things professional. And, more than likely, the person will be happy to start a conversation about their work or opinions once you’ve expressed interest. Get Grammarly Grammarly for Teams & Businesses Grammarly for Education Grammar Checker AI Writing Tools\"}, {'url': 'https://www.youtube.com/watch?v=59FTQnfMbIE', 'content': 'Aug 20, 2019 ... https://www.youtube.com/user/englishsingsing9 [Greeting] How are you? - Exciting song - English video for Kids - English Sing sing Here is'}, {'url': 'https://www.youtube.com/watch?v=fMR8Hr9Xby4', 'content': \"Oct 22, 2015 ... LYRICS: I'm happy, I'm happy, I'm happy, I'm very happy (x2) How are you? How are you? How are you, today? I'm sad, I'm sad, I'm sad I'm\"}]\u001b[0m\u001b[32;1m\u001b[1;3m\n",
      "Invoking: `tavily_search_results_json` with `{'query': 'how are you'}`\n",
      "\n",
      "\n",
      "\u001b[0m\u001b[36;1m\u001b[1;3m[{'url': 'https://www.indeed.com/career-advice/career-development/how-are-you-response', 'content': 'Sep 18, 2024 ... The way you should answer the question “How are you?” depends on who is asking. If you are talking to acquaintances or strangers, your answer will be more'}, {'url': 'https://www.quora.com/What-is-a-good-way-of-responding-to-how-are-you', 'content': 'It wasn\\'t until I asked someone how they were and they responded with “I\\'m fine. It made feel good to know that someone wanted to know how I felt, even if it was an automatic response to the question “How are you?” I\\'ve had the pleasurable opportunity to have traveled to foreign countries, like Mexico, Canada, and Sweden, where the native people actually do care and find the time to listen if the person being asked answers, “ Well I\\'m not doing good today.\" So why i I\\'ve had the pleasurable opportunity to have traveled to foreign countries, like Mexico, Canada, and Sweden, where the native people actually do care and find the time to listen if the person being asked answers, “ Well I\\'m not doing good today.\" So why is that?'}, {'url': 'https://www.grammarly.com/blog/writing-tips/how-are-you/', 'content': \"9 Ways to Ask “How Are You?” with Examples | Grammarly AI Writing Tools Grammar Checker AI Writing Tools Grammar Checker Writing How To's Business Writing Writing With AI Writing How To's Business Writing Writing With AI Write with Grammarly Conversely, if you’re emailing or messaging your manager who just got back from parental leave, something slightly more formal and targeted might make more sense, like “How are you doing with the new baby?” That way you show interest in their major life event while keeping things professional. And, more than likely, the person will be happy to start a conversation about their work or opinions once you’ve expressed interest. Get Grammarly Grammarly for Teams & Businesses Grammarly for Education Grammar Checker AI Writing Tools\"}, {'url': 'https://www.youtube.com/watch?v=59FTQnfMbIE', 'content': 'Aug 20, 2019 ... https://www.youtube.com/user/englishsingsing9 [Greeting] How are you? - Exciting song - English video for Kids - English Sing sing Here is'}, {'url': 'https://www.youtube.com/watch?v=fMR8Hr9Xby4', 'content': \"Oct 22, 2015 ... LYRICS: I'm happy, I'm happy, I'm happy, I'm very happy (x2) How are you? How are you? How are you, today? I'm sad, I'm sad, I'm sad I'm\"}]\u001b[0m\u001b[32;1m\u001b[1;3mI am an AI language model, so I don't have feelings or experiences like humans do.  How are you doing today? \n",
      "\u001b[0m\n",
      "\n",
      "\u001b[1m> Finished chain.\u001b[0m\n"
     ]
    },
    {
     "data": {
      "text/plain": [
       "{'input': 'hello how are you?',\n",
       " 'output': \"I am an AI language model, so I don't have feelings or experiences like humans do.  How are you doing today? \\n\"}"
      ]
     },
     "execution_count": 31,
     "metadata": {},
     "output_type": "execute_result"
    }
   ],
   "source": [
    "agent_executor.invoke({\"input\": \"hello how are you?\"})"
   ]
  },
  {
   "cell_type": "code",
   "execution_count": 36,
   "metadata": {},
   "outputs": [
    {
     "name": "stdout",
     "output_type": "stream",
     "text": [
      "\n",
      "\n",
      "\u001b[1m> Entering new AgentExecutor chain...\u001b[0m\n",
      "\u001b[32;1m\u001b[1;3m\n",
      "Invoking: `tavily_search_results_json` with `{'query': 'weather in san francisco celsius'}`\n",
      "\n",
      "\n",
      "\u001b[0m\u001b[36;1m\u001b[1;3m[{'url': 'https://www.weatherapi.com/', 'content': \"{'location': {'name': 'San Francisco', 'region': 'California', 'country': 'United States of America', 'lat': 37.775, 'lon': -122.4183, 'tz_id': 'America/Los_Angeles', 'localtime_epoch': 1735988071, 'localtime': '2025-01-04 02:54'}, 'current': {'last_updated_epoch': 1735987500, 'last_updated': '2025-01-04 02:45', 'temp_c': 9.4, 'temp_f': 48.9, 'is_day': 0, 'condition': {'text': 'Partly cloudy', 'icon': '//cdn.weatherapi.com/weather/64x64/night/116.png', 'code': 1003}, 'wind_mph': 5.4, 'wind_kph': 8.6, 'wind_degree': 277, 'wind_dir': 'W', 'pressure_mb': 1024.0, 'pressure_in': 30.24, 'precip_mm': 0.0, 'precip_in': 0.0, 'humidity': 83, 'cloud': 25, 'feelslike_c': 8.2, 'feelslike_f': 46.7, 'windchill_c': 9.2, 'windchill_f': 48.6, 'heatindex_c': 10.4, 'heatindex_f': 50.7, 'dewpoint_c': 7.4, 'dewpoint_f': 45.3, 'vis_km': 16.0, 'vis_miles': 9.0, 'uv': 0.0, 'gust_mph': 8.5, 'gust_kph': 13.8}}\"}, {'url': 'https://www.weather25.com/north-america/usa/california/san-francisco?page=month&month=April', 'content': 'San Francisco weather in April 2025 | Weather25.com San Francisco weather in April 2025 The wather in San Francisco in April can vary between cold and nice weather days. | San Francisco in April | Temperatures in San Francisco in April Weather in San Francisco in April - FAQ The average temperature in San Francisco in April is 9/18° C. On average, there are 2 rainy days in San Francisco during April. The weather in San Francisco in April is good. On average, there are 0 snowy days in San Francisco in April. More about the weather in San Francisco San Francisco 14 day weather Long range weather for San Francisco San Francisco weather in November San Francisco weather in December San Francisco Webcam Weather tomorrow Hotels in San Francisco'}, {'url': 'https://www.metcheck.com/WEATHER/dayforecast.asp?location=San+Francisco&locationID=57997&lat=-28.963100&lon=-65.426710&dateFor=04/01/2025', 'content': 'LIVE\\xa0▼ CHARTS/FORECASTS\\xa0▼ MODELS\\xa0▼ COMMUNITY\\xa0▼ DISCUSSIONS\\xa0▼ COMMERCIAL\\xa0▼ 27°c 41°c 30°c 37°c 24°c 39°c 29°c 41°c 29°c 34°c 24°c 37°c 26°c 40°c 29°c Weather Forecast for\\xa0San Francisco\\xa0for\\xa0Saturday 4 January Day/Night Day / Night Wet/Dry Dry & Wet ☀\\xa0▲\\xa06:27\\xa0\\xa0\\xa0\\xa020:23\\xa0\\xa0▼\\xa0☼\\xa0 ◄ Fri 16 Days ▼ Sun ► New Today On Metcheck Today\\xa0▼ Live\\xa0▼ Models\\xa0▼ Charts\\xa0▼ 1 NEW weather warning Read ► 1 NEW discussion - Read ► 1 NEW global discussion 2 NEW live discussions 41 NEW weather reports 1 NEW GFS Commentary 1 NEW snow discussion Forecasters Discussion\\xa0► Live Discussion\\xa0► ▼ Discussions ▼ Snow Maps Weather Reports Data Data Verification Site Changes Data Status'}, {'url': 'https://www.weather25.com/north-america/usa/california/san-francisco?page=month&month=January', 'content': 'San Francisco weather in January 2025 | Weather25.com San Francisco weather in January 2025 | San Francisco in January | Temperatures in San Francisco in January Weather in San Francisco in January - FAQ The average temperature in San Francisco in January is 7/15° C. On average, there are 4 rainy days in San Francisco during January. The weather in San Francisco in January is good. On average, there are 0 snowy days in San Francisco in January. More about the weather in San Francisco San Francisco 14 day weather Long range weather for San Francisco San Francisco weather in November San Francisco weather in December San Francisco Webcam Weather tomorrow Hotels in San Francisco'}, {'url': 'https://wu-next-prod-us-east-1-aws.wunderground.com/history/weekly/us/ca/san-francisco/KCASANFR1765/date/2025-1-1', 'content': 'San Francisco, CA Weather History | Weather Underground Sensor Network Maps & Radar Severe Weather News & Blogs Mobile Apps _gps_fixed_Find Nearest Station account_box Log in Go Ad Free_settings_ Settings Sensor NetworkMaps & RadarSevere WeatherNews & BlogsMobile AppsHistorical Weather San Francisco, CA _warning_50 °FPartly Cloudy _gps_fixed_Find Nearest Station San Francisco, CA Weather History_star_rate__home_ 51\\xa0°F San Francisco Intl Airport Station|Report Report Station Thank you for reporting this station. You are about to report this weather station for bad data. Station Offline Current Station Personal Weather Station Nearby Weather Stations Showing Stations Data Vendors We recognize our responsibility to use data and technology for good. We may use or share your data with our data vendors. Take control of your data.'}]\u001b[0m\u001b[32;1m\u001b[1;3m\n",
      "Invoking: `tavily_search_results_json` with `{'query': 'temperature in san francisco in celsius'}`\n",
      "\n",
      "\n",
      "\u001b[0m\u001b[36;1m\u001b[1;3m[{'url': 'https://www.worldweatheronline.com/san-francisco-weather/california/us.aspx', 'content': '🌡️ Mild Temperatures: The weather in San Francisco rarely sees extremes. Summer temperatures hover around 20°C (68°F), while winter temperatures usually'}, {'url': 'https://www.currentresults.com/Weather/California/Places/san-francisco-temperatures-by-month-average.php', 'content': 'Days of Hot Weather in San Francisco\\nSan Francisco averages just three days a year when the temperature reaches 90 degrees Fahrenheit, and even fewer over 100 (38 °C). The numbers here tell you how hot and cold the weather usually is in San Francisco, California during each month of the year.\\n The average high and low temperatures are listed below monthly and annually for San Francisco, in both degrees Fahrenheit and Celsius.\\n Current Results\\nweather and science facts\\nSan Francisco Temperatures: Averages by Month\\n The weather data were recorded in downtown San Francisco near the corner of Buchanan and Hermann Streets.\\n'}, {'url': 'https://www.climatestotravel.com/climate/united-states/san-francisco', 'content': 'In San Francisco, the average temperature of the coldest month (January) is of 10.7 °C (51.2 °F), that of the warmest month (September) is of 18.7 °C (65.7 °F). On the warmest days of the month, the temperature usually reaches around 18.5 °C (65.5 °F). On the warmest days of the month, the temperature usually reaches around 21 °C (69.5 °F). On the warmest days, which normally occur at the beginning of the month, the temperature usually reaches around 32.5 °C (90.5 °F). On the warmest days, which normally occur at the beginning of the month, the temperature usually reaches around 30.5 °C (87 °F). On the warmest days, which normally occur at the beginning of the month, the temperature usually reaches around 24 °C (75 °F).'}, {'url': 'https://www.theweather.com/san-francisco-c11610.htm', 'content': 'San Francisco, CA Weather ; Today Jan. 2 · 58° · 47° · 7 ; Tomorrow Jan. 3 · 57° · 46° · 14 ; Saturday Jan. 4 · 54° · 46° · 6'}, {'url': 'https://www.theweathernetwork.com/en/city/us/california/san-francisco/current', 'content': 'Get San Francisco, CA current weather report with temperature, feels like, wind, humidity, pressure, UV and more from TheWeatherNetwork.com.'}]\u001b[0m\u001b[32;1m\u001b[1;3m9.4 \n",
      "\u001b[0m\n",
      "\n",
      "\u001b[1m> Finished chain.\u001b[0m\n"
     ]
    },
    {
     "data": {
      "text/plain": [
       "{'input': 'whats the weather in sf in celsius?', 'output': '9.4 \\n'}"
      ]
     },
     "execution_count": 36,
     "metadata": {},
     "output_type": "execute_result"
    }
   ],
   "source": [
    "agent_executor.invoke({\"input\" : \"whats the weather in sf in celsius?\"})"
   ]
  }
 ],
 "metadata": {
  "kernelspec": {
   "display_name": "test",
   "language": "python",
   "name": "python3"
  },
  "language_info": {
   "codemirror_mode": {
    "name": "ipython",
    "version": 3
   },
   "file_extension": ".py",
   "mimetype": "text/x-python",
   "name": "python",
   "nbconvert_exporter": "python",
   "pygments_lexer": "ipython3",
   "version": "3.9.6"
  }
 },
 "nbformat": 4,
 "nbformat_minor": 2
}
